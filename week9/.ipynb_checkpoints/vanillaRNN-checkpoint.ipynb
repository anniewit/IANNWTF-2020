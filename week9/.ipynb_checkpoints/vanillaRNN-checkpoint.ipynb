{
 "cells": [
  {
   "cell_type": "code",
   "execution_count": 48,
   "metadata": {},
   "outputs": [],
   "source": [
    "import tensorflow as tf"
   ]
  },
  {
   "cell_type": "markdown",
   "metadata": {},
   "source": [
    "## Vanilla RNN\n",
    "### initialize parameters"
   ]
  },
  {
   "cell_type": "code",
   "execution_count": 35,
   "metadata": {},
   "outputs": [],
   "source": [
    "d = 3 # time steps\n",
    "i = 1 # input size\n",
    "h = 4 # hidden size\n",
    "o = 1 # output size\n",
    "activation = tf.keras.activations.sigmoid"
   ]
  },
  {
   "cell_type": "code",
   "execution_count": 44,
   "metadata": {},
   "outputs": [],
   "source": [
    "# initialize hidden network parameters\n",
    "w_xh = tf.random.normal( (i,h), 0, 1) # input-hidden weights\n",
    "w_hh = tf.random.normal( (h,h), 0, 1) # hidden-hidden weihjts\n",
    "h_t = tf.random.normal( (d,h), 0, 1) # initial hidden atate\n",
    "b_h = tf.random.normal( (1,h), 0, 1) # initialize hidden bias"
   ]
  },
  {
   "cell_type": "code",
   "execution_count": 42,
   "metadata": {},
   "outputs": [],
   "source": [
    "# initialize output layer\n",
    "w_xo = tf.random.normal( (h,o), 0,1)\n",
    "# includes bias\n",
    "b_o = tf.random.normal( (1,o), 0,1)\n",
    "activation_out = tf.keras.activations.sigmoid"
   ]
  },
  {
   "cell_type": "code",
   "execution_count": 15,
   "metadata": {},
   "outputs": [
    {
     "data": {
      "text/plain": [
       "<tf.Tensor: shape=(3, 1), dtype=float32, numpy=\n",
       "array([[0.41761836],\n",
       "       [1.8047894 ],\n",
       "       [0.08110087]], dtype=float32)>"
      ]
     },
     "execution_count": 15,
     "metadata": {},
     "output_type": "execute_result"
    }
   ],
   "source": [
    "# initialize input\n",
    "x = tf.random.normal( (d,i), 0, 1)\n",
    "x"
   ]
  },
  {
   "cell_type": "markdown",
   "metadata": {},
   "source": [
    "### forward pass"
   ]
  },
  {
   "cell_type": "code",
   "execution_count": 46,
   "metadata": {},
   "outputs": [
    {
     "name": "stdout",
     "output_type": "stream",
     "text": [
      "tf.Tensor(\n",
      "[[0.998317   0.6948987  0.9556932  0.9886015 ]\n",
      " [0.01067939 0.11937594 0.11812457 0.9945064 ]\n",
      " [0.08820334 0.30872828 0.8070549  0.9981073 ]], shape=(3, 4), dtype=float32)\n",
      "tf.Tensor(\n",
      "[[0.99740565 0.87076956 0.87140363 0.82092476]\n",
      " [0.00694785 0.28624427 0.04038072 0.90538037]\n",
      " [0.0589993  0.56919956 0.567857   0.96536595]], shape=(3, 4), dtype=float32)\n"
     ]
    }
   ],
   "source": [
    "# calculate hidden state\n",
    "h_new = activation(tf.matmul(x, w_xh) + tf.matmul(h_t, w_hh) + b_h)\n",
    "print(h_new)\n",
    "\n",
    "# with concatination\n",
    "h_new_concat = activation(tf.matmul( tf.concat((x,h_t), axis=1), tf.concat((w_xh, w_hh), axis=0)))\n",
    "print(h_new_concat)"
   ]
  },
  {
   "cell_type": "code",
   "execution_count": 47,
   "metadata": {},
   "outputs": [
    {
     "data": {
      "text/plain": [
       "<tf.Tensor: shape=(3, 1), dtype=float32, numpy=\n",
       "array([[0.6251486 ],\n",
       "       [0.38700792],\n",
       "       [0.6041714 ]], dtype=float32)>"
      ]
     },
     "execution_count": 47,
     "metadata": {},
     "output_type": "execute_result"
    }
   ],
   "source": [
    "# compute output\n",
    "\n",
    "y = activation_out( tf.matmul(h_new, w_xo) + b_o)\n",
    "y"
   ]
  },
  {
   "cell_type": "code",
   "execution_count": null,
   "metadata": {},
   "outputs": [],
   "source": []
  }
 ],
 "metadata": {
  "kernelspec": {
   "display_name": "Python 3",
   "language": "python",
   "name": "python3"
  },
  "language_info": {
   "codemirror_mode": {
    "name": "ipython",
    "version": 3
   },
   "file_extension": ".py",
   "mimetype": "text/x-python",
   "name": "python",
   "nbconvert_exporter": "python",
   "pygments_lexer": "ipython3",
   "version": "3.8.5"
  }
 },
 "nbformat": 4,
 "nbformat_minor": 4
}
